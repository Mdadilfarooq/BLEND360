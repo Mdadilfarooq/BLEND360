{
 "cells": [
  {
   "cell_type": "code",
   "execution_count": null,
   "metadata": {},
   "outputs": [],
   "source": [
    "import matplotlib as plt\n",
    "import pandas as pd\n",
    "import numpy as num\n",
    "import copy"
   ]
  },
  {
   "cell_type": "code",
   "execution_count": 4,
   "metadata": {},
   "outputs": [
    {
     "name": "stdout",
     "output_type": "stream",
     "text": [
      "Hello, World\n",
      "Hello, World\n",
      "Hello, World\n"
     ]
    }
   ],
   "source": [
    "print(\"Hello, World\")\n",
    "print(\"Hello,\",\"World\")\n",
    "print(\"Hello, \"+\"World\")"
   ]
  },
  {
   "cell_type": "code",
   "execution_count": 6,
   "metadata": {},
   "outputs": [
    {
     "data": {
      "text/plain": [
       "'This is a comment'"
      ]
     },
     "execution_count": 6,
     "metadata": {},
     "output_type": "execute_result"
    }
   ],
   "source": [
    "\"\"\"This is a comment\"\"\"\n",
    "# This is a comment"
   ]
  },
  {
   "cell_type": "code",
   "execution_count": 7,
   "metadata": {},
   "outputs": [
    {
     "name": "stdout",
     "output_type": "stream",
     "text": [
      "(20+0j)\n"
     ]
    }
   ],
   "source": [
    "#Casting and Data Types\n",
    "tmp = 20\n",
    "tmp = complex(tmp)\n",
    "print(tmp)"
   ]
  },
  {
   "cell_type": "code",
   "execution_count": 11,
   "metadata": {},
   "outputs": [
    {
     "name": "stdout",
     "output_type": "stream",
     "text": [
      "Global Value of x is 20\n",
      "Local Value of x is 30\n"
     ]
    }
   ],
   "source": [
    "# Global and Local Variables\n",
    "x = 20\n",
    "\n",
    "def tmp():\n",
    "    x = 30\n",
    "    print(\"Local Value of x is\",x)\n",
    "\n",
    "print(\"Global Value of x is\",x)\n",
    "tmp()"
   ]
  },
  {
   "cell_type": "code",
   "execution_count": 15,
   "metadata": {},
   "outputs": [
    {
     "name": "stdout",
     "output_type": "stream",
     "text": [
      "<memory at 0x00000213E02F56C0>\n"
     ]
    }
   ],
   "source": [
    "# memoryview only takes byte datatype\n",
    "x = memoryview(b\"Hello\")\n",
    "print(x)"
   ]
  },
  {
   "attachments": {},
   "cell_type": "markdown",
   "metadata": {},
   "source": [
    "complex numbers can't be converted to other number type"
   ]
  },
  {
   "cell_type": "code",
   "execution_count": 24,
   "metadata": {},
   "outputs": [
    {
     "name": "stdout",
     "output_type": "stream",
     "text": [
      "(5+0j)\n"
     ]
    }
   ],
   "source": [
    "x = 5\n",
    "print(complex(x)) "
   ]
  },
  {
   "cell_type": "code",
   "execution_count": 25,
   "metadata": {},
   "outputs": [
    {
     "name": "stdout",
     "output_type": "stream",
     "text": [
      "0.5\n"
     ]
    }
   ],
   "source": [
    "x = '0.5'\n",
    "print(float(x))"
   ]
  },
  {
   "cell_type": "code",
   "execution_count": 27,
   "metadata": {},
   "outputs": [
    {
     "name": "stdout",
     "output_type": "stream",
     "text": [
      "I am Adil.\n",
      "I am 20 years old\n"
     ]
    }
   ],
   "source": [
    "a = '''I am Adil.\n",
    "I am 20 years old'''\n",
    "if \"adeeb\" not in a:\n",
    "    print(a)"
   ]
  },
  {
   "cell_type": "code",
   "execution_count": 31,
   "metadata": {},
   "outputs": [
    {
     "name": "stdout",
     "output_type": "stream",
     "text": [
      "0\n",
      "2\n",
      "4\n"
     ]
    }
   ],
   "source": [
    "for x in range(0,5,2):\n",
    "    print(x)\n"
   ]
  },
  {
   "cell_type": "code",
   "execution_count": 36,
   "metadata": {},
   "outputs": [
    {
     "name": "stdout",
     "output_type": "stream",
     "text": [
      "l is goo\n"
     ]
    }
   ],
   "source": [
    "tmp = \"adil is good\"\n",
    "print(tmp.strip(\"adi\"))"
   ]
  },
  {
   "cell_type": "code",
   "execution_count": 37,
   "metadata": {},
   "outputs": [
    {
     "name": "stdout",
     "output_type": "stream",
     "text": [
      "SAMPLE STRING\n",
      "sample string\n",
      "['Sample', 'String']\n"
     ]
    }
   ],
   "source": [
    "tmp = \"Sample String\"\n",
    "print(tmp.upper())\n",
    "print(tmp.lower())\n",
    "print(tmp.split(\" \"))"
   ]
  },
  {
   "cell_type": "code",
   "execution_count": 43,
   "metadata": {},
   "outputs": [
    {
     "name": "stdout",
     "output_type": "stream",
     "text": [
      "adil is 36\n"
     ]
    }
   ],
   "source": [
    "test = 36\n",
    "tmp = f\"adil is {test}\"\n",
    "print(tmp.format(test = 20))"
   ]
  },
  {
   "cell_type": "code",
   "execution_count": 2,
   "metadata": {},
   "outputs": [
    {
     "name": "stdout",
     "output_type": "stream",
     "text": [
      "['was', 'just', 'a', 'test']\n"
     ]
    }
   ],
   "source": [
    "phrase = \"is just a test\"\n",
    "phrase = phrase.replace(\"is\",\"was\")\n",
    "phrase = phrase.split(\" \")\n",
    "print(phrase)"
   ]
  },
  {
   "cell_type": "code",
   "execution_count": 8,
   "metadata": {},
   "outputs": [],
   "source": [
    "# By Assignment\n",
    "myList = [1,2,3]\n",
    "myTuple = (1,2,3)\n",
    "myDict = {\"name\" : \"Adil\", \"age\" : 20}\n",
    "mySet = {1,2,3}\n",
    "# By Constructor Function\n",
    "myListCon = list((1,2,3))\n",
    "myTupleCon = tuple((1,2,3))\n",
    "myDictCon = dict(name = \"Adil\", age = 20)\n",
    "mySetCon = set((1,2,3))"
   ]
  },
  {
   "cell_type": "code",
   "execution_count": 1,
   "metadata": {},
   "outputs": [
    {
     "name": "stdout",
     "output_type": "stream",
     "text": [
      "[]\n",
      "[2, 3]\n"
     ]
    }
   ],
   "source": [
    "myList = [1,2,3,4]\n",
    "print(myList[-1:-3]) #Returns empty list\n",
    "print(myList[-3:-1]) "
   ]
  },
  {
   "cell_type": "code",
   "execution_count": 20,
   "metadata": {},
   "outputs": [
    {
     "name": "stdout",
     "output_type": "stream",
     "text": [
      "M\n",
      "i\n",
      "k\n",
      "*\n",
      " \n",
      "O\n",
      "l\n",
      "s\n",
      "*\n",
      "n\n"
     ]
    }
   ],
   "source": [
    "class Person:\n",
    "  def printname(self):\n",
    "    print(self.fname, self.lname)\n",
    "\n",
    "class Description:\n",
    "  def printdescription(self):\n",
    "    print(self.description)\n",
    "\n",
    "class Student(Person, Description):\n",
    "  def __init__(self,fname,lname,description):\n",
    "    self.fname = fname\n",
    "    self.lname = lname\n",
    "    self.description = description\n",
    "\n",
    "  def printstring(self):\n",
    "    name = self.fname + ' ' + self.lname\n",
    "    [print(x) if x != 'e' else print('*') for x in name]\n",
    "\n",
    "x = Student(\"Mike\", \"Olsen\", \"Is a good boy\")\n",
    "x.printstring()"
   ]
  },
  {
   "cell_type": "code",
   "execution_count": 16,
   "metadata": {},
   "outputs": [
    {
     "name": "stdout",
     "output_type": "stream",
     "text": [
      "2\n"
     ]
    }
   ],
   "source": [
    "class tmp:\n",
    "    def __iter__(self):\n",
    "        self.tmp = 1\n",
    "        return self\n",
    "    def __next__(self):\n",
    "        self.tmp += 1\n",
    "        return self.tmp\n",
    "\n",
    "object = tmp()\n",
    "iter = iter(object)\n",
    "print(next(iter))\n",
    "\n"
   ]
  },
  {
   "cell_type": "code",
   "execution_count": 26,
   "metadata": {},
   "outputs": [
    {
     "name": "stdout",
     "output_type": "stream",
     "text": [
      "20\n"
     ]
    }
   ],
   "source": [
    "x=30\n",
    "def test():\n",
    "    global x\n",
    "    x = 20\n",
    "\n",
    "test()\n",
    "\n",
    "print(x)"
   ]
  },
  {
   "cell_type": "code",
   "execution_count": 23,
   "metadata": {},
   "outputs": [
    {
     "name": "stdout",
     "output_type": "stream",
     "text": [
      "Python is fantastic\n"
     ]
    }
   ],
   "source": [
    "x = \"awesome\"\n",
    "\n",
    "def myfunc():\n",
    "  global x\n",
    "  x = \"fantastic\"\n",
    "\n",
    "myfunc()\n",
    "\n",
    "print(\"Python is \" + x)"
   ]
  }
 ],
 "metadata": {
  "kernelspec": {
   "display_name": "Python 3",
   "language": "python",
   "name": "python3"
  },
  "language_info": {
   "codemirror_mode": {
    "name": "ipython",
    "version": 3
   },
   "file_extension": ".py",
   "mimetype": "text/x-python",
   "name": "python",
   "nbconvert_exporter": "python",
   "pygments_lexer": "ipython3",
   "version": "3.11.1"
  },
  "orig_nbformat": 4,
  "vscode": {
   "interpreter": {
    "hash": "646b05fe23de839624c56f2110fe2ce68e335829b2e4dbc641878138bd765ba6"
   }
  }
 },
 "nbformat": 4,
 "nbformat_minor": 2
}
